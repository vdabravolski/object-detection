{
 "cells": [
  {
   "cell_type": "markdown",
   "metadata": {},
   "source": [
    "## Training and predicting objects using Mask RCNN model\n",
    "\n",
    "1. [Introduction](#Introduction)\n",
    "2. [Setup](#Setup)\n",
    "3. [Host pretrained model](#Host-pretrained-model)\n",
    "4. [Train model](#Train-model)"
   ]
  },
  {
   "cell_type": "markdown",
   "metadata": {},
   "source": [
    "## Introduction\n",
    "\n",
    "placeholder"
   ]
  },
  {
   "cell_type": "markdown",
   "metadata": {},
   "source": [
    "## Setup\n",
    "\n",
    "Before preparing the data, there are some initial steps required for setup. To train the image classification algorithm on Amazon SageMaker, we need to setup and authenticate the use of AWS services. To begin with, we need an AWS account role with SageMaker access. Here we will use the execution role the current notebook instance was given when it was created.  This role has necessary permissions, including access to your data in S3."
   ]
  },
  {
   "cell_type": "code",
   "execution_count": 2,
   "metadata": {},
   "outputs": [
    {
     "name": "stdout",
     "output_type": "stream",
     "text": [
      "arn:aws:iam::480604769687:role/service-role/AmazonSageMaker-ExecutionRole-20190530T172586\n"
     ]
    }
   ],
   "source": [
    "import sagemaker\n",
    "from sagemaker import get_execution_role\n",
    "\n",
    "role = get_execution_role()\n",
    "print(role)\n",
    "sess = sagemaker.Session()"
   ]
  },
  {
   "cell_type": "markdown",
   "metadata": {},
   "source": [
    "We also need to identify the S3 bucket that you want to use for providing training and validation datasets. It will be used to store the tranied model artifacts as well. In this notebook, we use a default bucket for use with SageMaker in your account. Alternatively, you could use whatever bucket you would like. We use an object prefix to help organize the bucket content."
   ]
  },
  {
   "cell_type": "code",
   "execution_count": 4,
   "metadata": {},
   "outputs": [],
   "source": [
    "bucket = sess.default_bucket() # or use your own custom bucket name\n",
    "prefix = 'DEMO-RCNN-model'"
   ]
  },
  {
   "cell_type": "markdown",
   "metadata": {},
   "source": [
    "**Important.** Refine and define parameters of your training and inference."
   ]
  },
  {
   "cell_type": "code",
   "execution_count": 15,
   "metadata": {},
   "outputs": [],
   "source": [
    "IS_LOCAL = True # defines whether training is done on notebook instance (i.e. IS_LOCAL=TRUE) or on remote Sagemaker nodes (IS_LOCAL=FALSE)\n",
    "\n",
    "WORK_DIR = \"/home/ec2-user/SageMaker/object-detection\""
   ]
  },
  {
   "cell_type": "markdown",
   "metadata": {},
   "source": [
    "## Prepare dataset"
   ]
  },
  {
   "cell_type": "markdown",
   "metadata": {},
   "source": [
    "## Install Dependencies\n",
    "\n",
    "To be able to run pre-trained MRCNN model, we need to resolve several dependencies:\n",
    "- install number of Python packages;\n",
    "- build MRCNN package from source;\n",
    "- copy model weights trained on MS COCO dataset.\n",
    "\n",
    "Review setup.sh and requirements.txt for details."
   ]
  },
  {
   "cell_type": "code",
   "execution_count": 6,
   "metadata": {},
   "outputs": [
    {
     "name": "stdout",
     "output_type": "stream",
     "text": [
      "\u001b[37m#!/bin/bash\u001b[39;49;00m\n",
      "\u001b[37m# Download and install Mask_RCNN implementations\u001b[39;49;00m\n",
      "git clone https://github.com/matterport/Mask_RCNN\n",
      "\u001b[36mcd\u001b[39;49;00m Mask_RCNN\n",
      "python setup.py install\n",
      "\n",
      "\u001b[37m# Download pretrained model weights for COCO dataset\u001b[39;49;00m\n",
      "wget https://github.com/matterport/Mask_RCNN/releases/download/v2.0/mask_rcnn_coco.h5\n",
      "    \n",
      "\u001b[37m# Install pycocotools to work with MS COCO data set. \u001b[39;49;00m\n",
      "git clone https://github.com/pdollar/coco.git\n",
      "\u001b[36mcd\u001b[39;49;00m coco/PythonAPI\n",
      "make\n",
      "sudo make install\n",
      "sudo python setup.py install\n"
     ]
    }
   ],
   "source": [
    "! pygmentize code/setup.sh"
   ]
  },
  {
   "cell_type": "code",
   "execution_count": 8,
   "metadata": {},
   "outputs": [
    {
     "name": "stdout",
     "output_type": "stream",
     "text": [
      "numpy\n",
      "scipy\n",
      "Pillow\n",
      "cython\n",
      "matplotlib\n",
      "scikit-image\n",
      "tensorflow>=1.3.0\n",
      "keras>=2.0.8\n",
      "opencv-python\n",
      "h5py\n",
      "imgaug\n",
      "IPython[all]\n"
     ]
    }
   ],
   "source": [
    "! pygmentize code/requirements.txt"
   ]
  },
  {
   "cell_type": "code",
   "execution_count": null,
   "metadata": {},
   "outputs": [],
   "source": [
    "if IS_LOCAL: # if training on notebook instance, ensure that all dependecies are deployed.\n",
    "    ! sudo sh {WORK_DIR}/code/setup.sh {WORK_DIR}\n",
    "    ! pip install -r {WORK_DIR}/code/requirements.txt"
   ]
  },
  {
   "cell_type": "code",
   "execution_count": 27,
   "metadata": {},
   "outputs": [
    {
     "name": "stdout",
     "output_type": "stream",
     "text": [
      "total 16\n",
      "-rw-rw-r-- 1 ec2-user ec2-user  13 Sep 18 03:36 lab1-inference.py\n",
      "-rw-rw-r-- 1 ec2-user ec2-user  12 Sep 17 03:22 lab1-training.py\n",
      "-rw-rw-r-- 1 ec2-user ec2-user 119 Sep 18 13:28 requirements.txt\n",
      "-rw-rw-r-- 1 ec2-user ec2-user 638 Sep 19 18:28 setup.sh\n"
     ]
    }
   ],
   "source": [
    "dir = \"code\"\n",
    "! ls -l {dir}"
   ]
  },
  {
   "cell_type": "markdown",
   "metadata": {},
   "source": [
    "## Inference of pre-trained model"
   ]
  },
  {
   "cell_type": "code",
   "execution_count": null,
   "metadata": {},
   "outputs": [],
   "source": []
  }
 ],
 "metadata": {
  "kernelspec": {
   "display_name": "conda_tensorflow_p36",
   "language": "python",
   "name": "conda_tensorflow_p36"
  },
  "language_info": {
   "codemirror_mode": {
    "name": "ipython",
    "version": 3
   },
   "file_extension": ".py",
   "mimetype": "text/x-python",
   "name": "python",
   "nbconvert_exporter": "python",
   "pygments_lexer": "ipython3",
   "version": "3.6.5"
  }
 },
 "nbformat": 4,
 "nbformat_minor": 4
}
